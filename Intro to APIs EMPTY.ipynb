{
 "cells": [
  {
   "cell_type": "markdown",
   "id": "7196054f",
   "metadata": {},
   "source": [
    "# Working with APIs"
   ]
  },
  {
   "cell_type": "markdown",
   "id": "0547b71e",
   "metadata": {},
   "source": [
    "API stands for Application programming interface<br>\n",
    "APIs are a way for applications to talk to eachother<br>\n",
    "In python we use the requests package to handle the connection<br>\n",
    "<small><strong>Note: It is requests with an s not request(this is a different package)</strong></small><br>\n",
    "Most API's communicate with data in the form of JSON<br>\n",
    "JSON stands for JavaScript Object Notation"
   ]
  },
  {
   "cell_type": "code",
   "execution_count": 27,
   "id": "4db9d154",
   "metadata": {},
   "outputs": [],
   "source": [
    "#import the packages we need:\n",
    "\n",
    "import requests\n"
   ]
  },
  {
   "cell_type": "markdown",
   "id": "e8c2ce51",
   "metadata": {},
   "source": [
    "We will be connecting to the Ergast F1 Racer API today:\n",
    "http://ergast.com/mrd/\n",
    "\n",
    "to view JSON data nicely in the Chrome browser install the extension JSONview"
   ]
  },
  {
   "cell_type": "code",
   "execution_count": 28,
   "id": "52c440c6",
   "metadata": {},
   "outputs": [],
   "source": [
    "# API we are accessing. Attach .json at teh end of URL\n",
    "my_url = 'http://ergast.com/api/f1/2008/5/driverStandings.json'"
   ]
  },
  {
   "cell_type": "code",
   "execution_count": 29,
   "id": "f60c1b4a",
   "metadata": {},
   "outputs": [
    {
     "name": "stdout",
     "output_type": "stream",
     "text": [
      "<Response [200]>\n"
     ]
    }
   ],
   "source": [
    "# requasts creates the .json url in your python\n",
    "my_response = requests.get(my_url)\n",
    "print(my_response)"
   ]
  },
  {
   "cell_type": "code",
   "execution_count": 32,
   "id": "7b63a204",
   "metadata": {},
   "outputs": [
    {
     "data": {
      "text/plain": [
       "True"
      ]
     },
     "execution_count": 32,
     "metadata": {},
     "output_type": "execute_result"
    }
   ],
   "source": [
    "#response object\n",
    "my_response.status_code\n",
    "my_response.ok"
   ]
  },
  {
   "cell_type": "code",
   "execution_count": 33,
   "id": "c6d1fdaf",
   "metadata": {},
   "outputs": [],
   "source": [
    "#check and make sure we got a successful response from the API\n"
   ]
  },
  {
   "cell_type": "code",
   "execution_count": 44,
   "id": "ed4d3256",
   "metadata": {},
   "outputs": [],
   "source": [
    "#view the response as a JSON\n",
    "my_response.json()"
   ]
  },
  {
   "cell_type": "code",
   "execution_count": 45,
   "id": "92e6cd2c",
   "metadata": {},
   "outputs": [],
   "source": [
    "type(my_response.json())"
   ]
  },
  {
   "cell_type": "code",
   "execution_count": 108,
   "id": "f074dfcf",
   "metadata": {},
   "outputs": [],
   "source": [
    "# We only want the Driver Standings\n",
    "my_driver_standings = my_response.json()['MRData']['StandingsTable']['StandingsLists'][0]['DriverStandings']\n",
    "my_driver_standings"
   ]
  },
  {
   "cell_type": "code",
   "execution_count": 107,
   "id": "be46a950",
   "metadata": {},
   "outputs": [],
   "source": [
    "for driver in my_driver_standings:\n",
    "    print(driver['Driver']['givenName'], driver['Driver']['familyName'])"
   ]
  },
  {
   "cell_type": "code",
   "execution_count": 106,
   "id": "3740c752",
   "metadata": {},
   "outputs": [],
   "source": [
    "def get_driver_info(data):\n",
    "    new_driver_data = []\n",
    "    for driver in data:\n",
    "        driver_dict = {}\n",
    "        full_name = driver['Driver']['givenName'] + ' ' + driver['Driver']['familyName']\n",
    "        driver_dict[full_name] = {\n",
    "            'DOB': driver['Driver']['dateOfBirth'],\n",
    "            'Wins': driver['wins'],\n",
    "            'team': driver['Constructors'][0]['name']\n",
    "        }\n",
    "        new_driver_data.append(driver_dict)\n",
    "    return new_driver_data\n",
    "\n",
    "get_driver_info(my_driver_standings)"
   ]
  },
  {
   "cell_type": "markdown",
   "id": "6d546014",
   "metadata": {},
   "source": [
    "# <strong>Homework</strong>\n",
    "check out this Pokemon API https://pokeapi.co/\n",
    "Use the requests package to connect to this API and get and store data for 5 different pokemon.\n",
    "Get the pokemons: name, atleast one ability's name, base_experience, and the URL for its sprite (an image that shows up on screen) for the 'front_shiny', attack base_stat, hp base_stat, defense base_stat"
   ]
  },
  {
   "cell_type": "code",
   "execution_count": 109,
   "id": "5a9081e3",
   "metadata": {},
   "outputs": [
    {
     "data": {
      "text/plain": [
       "[{'ditto': {'Ability': 'limber',\n",
       "   'Base_experience': 101,\n",
       "   'Sprite': 'https://raw.githubusercontent.com/PokeAPI/sprites/master/sprites/pokemon/shiny/132.png',\n",
       "   'Attack base_stat': 48,\n",
       "   'hp base_stat': 48,\n",
       "   'Defense base_stat': 48}},\n",
       " {'pikachu': {'Ability': 'static',\n",
       "   'Base_experience': 112,\n",
       "   'Sprite': 'https://raw.githubusercontent.com/PokeAPI/sprites/master/sprites/pokemon/shiny/25.png',\n",
       "   'Attack base_stat': 55,\n",
       "   'hp base_stat': 35,\n",
       "   'Defense base_stat': 40}},\n",
       " {'snorlax': {'Ability': 'immunity',\n",
       "   'Base_experience': 189,\n",
       "   'Sprite': 'https://raw.githubusercontent.com/PokeAPI/sprites/master/sprites/pokemon/shiny/143.png',\n",
       "   'Attack base_stat': 110,\n",
       "   'hp base_stat': 160,\n",
       "   'Defense base_stat': 65}},\n",
       " {'garchomp': {'Ability': 'sand-veil',\n",
       "   'Base_experience': 300,\n",
       "   'Sprite': 'https://raw.githubusercontent.com/PokeAPI/sprites/master/sprites/pokemon/shiny/445.png',\n",
       "   'Attack base_stat': 130,\n",
       "   'hp base_stat': 108,\n",
       "   'Defense base_stat': 95}},\n",
       " {'squirtle': {'Ability': 'torrent',\n",
       "   'Base_experience': 63,\n",
       "   'Sprite': 'https://raw.githubusercontent.com/PokeAPI/sprites/master/sprites/pokemon/shiny/7.png',\n",
       "   'Attack base_stat': 48,\n",
       "   'hp base_stat': 44,\n",
       "   'Defense base_stat': 65}}]"
      ]
     },
     "execution_count": 109,
     "metadata": {},
     "output_type": "execute_result"
    }
   ],
   "source": [
    "url1 = 'https://pokeapi.co/api/v2/pokemon/ditto'\n",
    "url2 = 'https://pokeapi.co/api/v2/pokemon/pikachu'\n",
    "url3 = 'https://pokeapi.co/api/v2/pokemon/snorlax'\n",
    "url4 = 'https://pokeapi.co/api/v2/pokemon/garchomp'\n",
    "url5 = 'https://pokeapi.co/api/v2/pokemon/squirtle'\n",
    "\n",
    "ditto = requests.get(url1)\n",
    "pikachu = requests.get(url2)\n",
    "snorlax = requests.get(url3)\n",
    "garchomp = requests.get(url4)\n",
    "squirtle = requests.get(url5)\n",
    "\n",
    "# Below is the dictionary I will loop through in my fuction for each pokemon only using the values of the dictionary to do so:\n",
    "\n",
    "working_dict = {\n",
    "    'ditto' : ditto.json(),\n",
    "    'pikachu' : pikachu.json(),\n",
    "    'snorlax' : snorlax.json(),\n",
    "    'garchomp' : garchomp.json(),\n",
    "    'squirtle' : squirtle.json()\n",
    "}\n",
    "\n",
    "def pokemon_attributes(your_dict):\n",
    "    to_display_list = []\n",
    "    for value in your_dict.values():\n",
    "        pokemon_dict = {}\n",
    "        pokemon_name = value['forms'][0]['name']\n",
    "        pokemon_dict[pokemon_name] = {\n",
    "            'Ability' : value['abilities'][0]['ability']['name'],\n",
    "            'Base_experience' : value['base_experience'],\n",
    "            'Sprite' : value['sprites']['front_shiny'],\n",
    "            'Attack base_stat' : value['stats'][1]['base_stat'],\n",
    "            'hp base_stat' : value['stats'][0]['base_stat'],\n",
    "            'Defense base_stat': value['stats'][2]['base_stat']\n",
    "        }\n",
    "        to_display_list.append(pokemon_dict)\n",
    "    return to_display_list\n",
    "\n",
    "pokemon_attributes(working_dict)\n",
    "\n",
    "        \n",
    "\n"
   ]
  }
 ],
 "metadata": {
  "kernelspec": {
   "display_name": "Python 3.10.7 64-bit",
   "language": "python",
   "name": "python3"
  },
  "language_info": {
   "codemirror_mode": {
    "name": "ipython",
    "version": 3
   },
   "file_extension": ".py",
   "mimetype": "text/x-python",
   "name": "python",
   "nbconvert_exporter": "python",
   "pygments_lexer": "ipython3",
   "version": "3.10.7"
  },
  "vscode": {
   "interpreter": {
    "hash": "eff668cd27429cb04355947873f2ab8255443f18fdd0a93a668481bf941d10dd"
   }
  }
 },
 "nbformat": 4,
 "nbformat_minor": 5
}
